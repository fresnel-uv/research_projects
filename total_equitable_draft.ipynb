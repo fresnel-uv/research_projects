{
 "cells": [
  {
   "cell_type": "code",
   "execution_count": 13,
   "id": "56836466-e9d4-4a37-a310-98987ecb5294",
   "metadata": {},
   "outputs": [
    {
     "name": "stdin",
     "output_type": "stream",
     "text": [
      "Enter the number of nodes for the path graph:  4\n"
     ]
    },
    {
     "data": {
      "image/png": "[encoded data removed]",
      "text/plain": [
       "<Figure size 640x480 with 1 Axes>"
      ]
     },
     "metadata": {},
     "output_type": "display_data"
    },
    {
     "name": "stdout",
     "output_type": "stream",
     "text": [
      "\n",
      "Independent sets V_i (|V_i| ≥ 1):\n",
      "V_0: [0]\n",
      "V_1: [1]\n",
      "V_2: [2]\n",
      "V_3: [3]\n",
      "V_4: [0, 2]\n",
      "V_5: [0, 3]\n",
      "V_6: [1, 3]\n",
      "\n",
      "Matchings E_i (|E_i| ≥ 1):\n",
      "E_0: [(0, 1)]\n",
      "E_1: [(1, 2)]\n",
      "E_2: [(2, 3)]\n",
      "E_3: [(0, 1), (2, 3)]\n",
      "\n",
      "Filtered T_i = V_i ∪ E_i where |V_i| = |E_i| ≥ 1, disjoint, and |T_i - T_j| ≤ 1 (6 total):\n",
      "T_0: V_0 ∪ E_1 = {Vertices: [0], Edges: [(1, 2)]}\n",
      "T_1: V_0 ∪ E_2 = {Vertices: [0], Edges: [(2, 3)]}\n",
      "T_2: V_1 ∪ E_2 = {Vertices: [1], Edges: [(2, 3)]}\n",
      "T_3: V_2 ∪ E_0 = {Vertices: [2], Edges: [(0, 1)]}\n",
      "T_4: V_3 ∪ E_0 = {Vertices: [3], Edges: [(0, 1)]}\n",
      "T_5: V_3 ∪ E_1 = {Vertices: [3], Edges: [(1, 2)]}\n"
     ]
    }
   ],
   "source": [
    "import networkx as nx\n",
    "import networkx.algorithms.matching as nxmatch\n",
    "import itertools\n",
    "import matplotlib.pyplot as plt\n",
    "\n",
    "def generate_cycle_graph(n):\n",
    "    return nx.cycle_graph(n)\n",
    "\n",
    "def is_independent_set(G, nodes):\n",
    "    for u, v in itertools.combinations(nodes, 2):\n",
    "        if G.has_edge(u, v):\n",
    "            return False\n",
    "    return True\n",
    "\n",
    "def find_all_independent_sets(G):\n",
    "    nodes = list(G.nodes)\n",
    "    independent_sets = []\n",
    "    for r in range(1, len(nodes) + 1):  \n",
    "        for subset in itertools.combinations(nodes, r):\n",
    "            if is_independent_set(G, subset):\n",
    "                independent_sets.append(set(subset))\n",
    "    return independent_sets\n",
    "\n",
    "def find_all_matchings(G):\n",
    "    edges = list(G.edges)\n",
    "    matchings = []\n",
    "    for r in range(1, len(edges) + 1):  # only matchings of size ≥ 1\n",
    "        for subset in itertools.combinations(edges, r):\n",
    "            if nxmatch.is_matching(G, subset):\n",
    "                matchings.append(set(subset))\n",
    "    return matchings\n",
    "\n",
    "def get_vertices_from_edges(edges):\n",
    "    return set(u for edge in edges for u in edge)\n",
    "\n",
    "def find_valid_T_sets_equal_size(independent_sets, matchings):\n",
    "    T_sets = []\n",
    "    for i, V_i in enumerate(independent_sets):\n",
    "        for j, E_i in enumerate(matchings):\n",
    "            if len(V_i) == len(E_i) and len(V_i) > 0:\n",
    "                edge_vertices = get_vertices_from_edges(E_i)\n",
    "                if V_i.isdisjoint(edge_vertices):\n",
    "                    T_sets.append((i, j, V_i, E_i))\n",
    "    return T_sets\n",
    "\n",
    "def filter_T_sets_by_size_proximity(T_sets):\n",
    "    T_sizes = [len(V_i) + len(E_i) for (_, _, V_i, E_i) in T_sets]\n",
    "    filtered_T = []\n",
    "\n",
    "    for idx, (i, j, V_i, E_i) in enumerate(T_sets):\n",
    "        size_i = T_sizes[idx]\n",
    "        if any(abs(size_i - size_j) <= 1 for k, size_j in enumerate(T_sizes) if k != idx):\n",
    "            filtered_T.append((i, j, V_i, E_i))\n",
    "    \n",
    "    return filtered_T\n",
    "\n",
    "def visualize_graph(G):\n",
    "    pos = nx.spring_layout(G)\n",
    "    nx.draw(G, pos, with_labels=True, node_color='lightblue', edge_color='gray')\n",
    "    plt.title(\"Path Graph\")\n",
    "    plt.show()\n",
    "\n",
    "if __name__ == \"__main__\":\n",
    "    n = int(input(\"Enter the number of nodes for the path graph: \"))\n",
    "    G = generate_path_graph(n)\n",
    "    visualize_graph(G)\n",
    "\n",
    "    independent_sets = find_all_independent_sets(G)\n",
    "    matchings = find_all_matchings(G)\n",
    "\n",
    "    print(f\"\\nIndependent sets V_i (|V_i| ≥ 1):\")\n",
    "    for i, V_i in enumerate(independent_sets):\n",
    "        print(f\"V_{i}: {sorted(V_i)}\")\n",
    "\n",
    "    print(f\"\\nMatchings E_i (|E_i| ≥ 1):\")\n",
    "    for j, E_i in enumerate(matchings):\n",
    "        print(f\"E_{j}: {sorted(E_i)}\")\n",
    "\n",
    "    T_sets_all = find_valid_T_sets_equal_size(independent_sets, matchings)\n",
    "    T_sets = filter_T_sets_by_size_proximity(T_sets_all)\n",
    "\n",
    "    print(f\"\\nFiltered T_i = V_i ∪ E_i where |V_i| = |E_i| ≥ 1, disjoint, and |T_i - T_j| ≤ 1 ({len(T_sets)} total):\")\n",
    "    for idx, (i, j, V_i, E_i) in enumerate(T_sets):\n",
    "        print(f\"T_{idx}: V_{i} ∪ E_{j} = {{Vertices: {sorted(V_i)}, Edges: {sorted(E_i)}}}\")"
   ]
  },
  {
   "cell_type": "code",
   "execution_count": null,
   "id": "131eebac-a2f7-430a-b4ee-84fd418fef71",
   "metadata": {},
   "outputs": [],
   "source": []
  }
 ],
 "metadata": {
  "kernelspec": {
   "display_name": "Python 3 (ipykernel)",
   "language": "python",
   "name": "python3"
  },
  "language_info": {
   "codemirror_mode": {
    "name": "ipython",
    "version": 3
   },
   "file_extension": ".py",
   "mimetype": "text/x-python",
   "name": "python",
   "nbconvert_exporter": "python",
   "pygments_lexer": "ipython3",
   "version": "3.13.1"
  }
 },
 "nbformat": 4,
 "nbformat_minor": 5
}
